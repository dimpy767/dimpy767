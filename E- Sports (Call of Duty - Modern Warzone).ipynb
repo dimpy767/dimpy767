{
 "cells": [
  {
   "cell_type": "code",
   "execution_count": 1,
   "metadata": {},
   "outputs": [],
   "source": [
    "import numpy as np\n",
    "import pylab as pl\n",
    "import pandas as pd\n",
    "import matplotlib\n",
    "import matplotlib.pyplot as plt \n",
    "%matplotlib inline\n",
    "matplotlib.rcParams.update({'font.size': 20})\n",
    "from sklearn.preprocessing import StandardScaler\n",
    "from sklearn.model_selection import StratifiedKFold\n",
    "from sklearn.metrics import roc_curve, auc\n"
   ]
  },
  {
   "cell_type": "code",
   "execution_count": 2,
   "metadata": {},
   "outputs": [
    {
     "data": {
      "text/html": [
       "<div>\n",
       "<style scoped>\n",
       "    .dataframe tbody tr th:only-of-type {\n",
       "        vertical-align: middle;\n",
       "    }\n",
       "\n",
       "    .dataframe tbody tr th {\n",
       "        vertical-align: top;\n",
       "    }\n",
       "\n",
       "    .dataframe thead th {\n",
       "        text-align: right;\n",
       "    }\n",
       "</style>\n",
       "<table border=\"1\" class=\"dataframe\">\n",
       "  <thead>\n",
       "    <tr style=\"text-align: right;\">\n",
       "      <th></th>\n",
       "      <th>xp</th>\n",
       "      <th>score</th>\n",
       "      <th>timePlayed</th>\n",
       "      <th>gamesPlayed</th>\n",
       "      <th>losses</th>\n",
       "      <th>kills</th>\n",
       "      <th>deaths</th>\n",
       "      <th>assists</th>\n",
       "      <th>headshots</th>\n",
       "      <th>hits</th>\n",
       "      <th>misses</th>\n",
       "      <th>shots</th>\n",
       "      <th>accuracy</th>\n",
       "      <th>kdRatio</th>\n",
       "      <th>level</th>\n",
       "      <th>prestige</th>\n",
       "      <th>scorePerMinute</th>\n",
       "      <th>wins</th>\n",
       "    </tr>\n",
       "  </thead>\n",
       "  <tbody>\n",
       "    <tr>\n",
       "      <th>0</th>\n",
       "      <td>439313</td>\n",
       "      <td>408.0</td>\n",
       "      <td>437</td>\n",
       "      <td>NaN</td>\n",
       "      <td>4.0</td>\n",
       "      <td>455.0</td>\n",
       "      <td>990</td>\n",
       "      <td>160.0</td>\n",
       "      <td>84.0</td>\n",
       "      <td>26.0</td>\n",
       "      <td>109.0</td>\n",
       "      <td>135.0</td>\n",
       "      <td>NaN</td>\n",
       "      <td>0.459596</td>\n",
       "      <td>36</td>\n",
       "      <td>110.0</td>\n",
       "      <td>0.560183</td>\n",
       "      <td>21.0</td>\n",
       "    </tr>\n",
       "    <tr>\n",
       "      <th>1</th>\n",
       "      <td>4192203</td>\n",
       "      <td>324849.0</td>\n",
       "      <td>2109</td>\n",
       "      <td>337.0</td>\n",
       "      <td>11.0</td>\n",
       "      <td>16220.0</td>\n",
       "      <td>17291</td>\n",
       "      <td>3546.0</td>\n",
       "      <td>3499.0</td>\n",
       "      <td>43075.0</td>\n",
       "      <td>163545.0</td>\n",
       "      <td>206620.0</td>\n",
       "      <td>55.0</td>\n",
       "      <td>0.938060</td>\n",
       "      <td>183</td>\n",
       "      <td>110.0</td>\n",
       "      <td>92.417923</td>\n",
       "      <td>348.0</td>\n",
       "    </tr>\n",
       "    <tr>\n",
       "      <th>2</th>\n",
       "      <td>186507</td>\n",
       "      <td>NaN</td>\n",
       "      <td>134</td>\n",
       "      <td>NaN</td>\n",
       "      <td>3.0</td>\n",
       "      <td>311.0</td>\n",
       "      <td>322</td>\n",
       "      <td>60.0</td>\n",
       "      <td>72.0</td>\n",
       "      <td>NaN</td>\n",
       "      <td>NaN</td>\n",
       "      <td>NaN</td>\n",
       "      <td>NaN</td>\n",
       "      <td>0.965839</td>\n",
       "      <td>22</td>\n",
       "      <td>110.0</td>\n",
       "      <td>NaN</td>\n",
       "      <td>9.0</td>\n",
       "    </tr>\n",
       "    <tr>\n",
       "      <th>3</th>\n",
       "      <td>255260</td>\n",
       "      <td>36489.0</td>\n",
       "      <td>106</td>\n",
       "      <td>50.0</td>\n",
       "      <td>7.0</td>\n",
       "      <td>1534.0</td>\n",
       "      <td>1487</td>\n",
       "      <td>396.0</td>\n",
       "      <td>207.0</td>\n",
       "      <td>6800.0</td>\n",
       "      <td>30365.0</td>\n",
       "      <td>37165.0</td>\n",
       "      <td>55.0</td>\n",
       "      <td>1.031607</td>\n",
       "      <td>27</td>\n",
       "      <td>5.0</td>\n",
       "      <td>206.541509</td>\n",
       "      <td>49.0</td>\n",
       "    </tr>\n",
       "    <tr>\n",
       "      <th>4</th>\n",
       "      <td>10395</td>\n",
       "      <td>NaN</td>\n",
       "      <td>13</td>\n",
       "      <td>NaN</td>\n",
       "      <td>NaN</td>\n",
       "      <td>11.0</td>\n",
       "      <td>24</td>\n",
       "      <td>NaN</td>\n",
       "      <td>3.0</td>\n",
       "      <td>NaN</td>\n",
       "      <td>NaN</td>\n",
       "      <td>NaN</td>\n",
       "      <td>NaN</td>\n",
       "      <td>0.458333</td>\n",
       "      <td>3</td>\n",
       "      <td>110.0</td>\n",
       "      <td>NaN</td>\n",
       "      <td>NaN</td>\n",
       "    </tr>\n",
       "  </tbody>\n",
       "</table>\n",
       "</div>"
      ],
      "text/plain": [
       "        xp     score  timePlayed  gamesPlayed  losses    kills  deaths  \\\n",
       "0   439313     408.0         437          NaN     4.0    455.0     990   \n",
       "1  4192203  324849.0        2109        337.0    11.0  16220.0   17291   \n",
       "2   186507       NaN         134          NaN     3.0    311.0     322   \n",
       "3   255260   36489.0         106         50.0     7.0   1534.0    1487   \n",
       "4    10395       NaN          13          NaN     NaN     11.0      24   \n",
       "\n",
       "   assists  headshots     hits    misses     shots  accuracy   kdRatio  level  \\\n",
       "0    160.0       84.0     26.0     109.0     135.0       NaN  0.459596     36   \n",
       "1   3546.0     3499.0  43075.0  163545.0  206620.0      55.0  0.938060    183   \n",
       "2     60.0       72.0      NaN       NaN       NaN       NaN  0.965839     22   \n",
       "3    396.0      207.0   6800.0   30365.0   37165.0      55.0  1.031607     27   \n",
       "4      NaN        3.0      NaN       NaN       NaN       NaN  0.458333      3   \n",
       "\n",
       "   prestige  scorePerMinute   wins  \n",
       "0     110.0        0.560183   21.0  \n",
       "1     110.0       92.417923  348.0  \n",
       "2     110.0             NaN    9.0  \n",
       "3       5.0      206.541509   49.0  \n",
       "4     110.0             NaN    NaN  "
      ]
     },
     "execution_count": 2,
     "metadata": {},
     "output_type": "execute_result"
    }
   ],
   "source": [
    "df = pd.read_csv(\"E:\\e-sports\\e-sports_Submission_1\\e-sports_Submission_1\\Multi_LeadercallOfDutyMetricsbattle.csv\",na_values = '0')\n",
    "df.head()"
   ]
  },
  {
   "cell_type": "code",
   "execution_count": 3,
   "metadata": {},
   "outputs": [
    {
     "data": {
      "text/html": [
       "<div>\n",
       "<style scoped>\n",
       "    .dataframe tbody tr th:only-of-type {\n",
       "        vertical-align: middle;\n",
       "    }\n",
       "\n",
       "    .dataframe tbody tr th {\n",
       "        vertical-align: top;\n",
       "    }\n",
       "\n",
       "    .dataframe thead th {\n",
       "        text-align: right;\n",
       "    }\n",
       "</style>\n",
       "<table border=\"1\" class=\"dataframe\">\n",
       "  <thead>\n",
       "    <tr style=\"text-align: right;\">\n",
       "      <th></th>\n",
       "      <th>xp</th>\n",
       "      <th>score</th>\n",
       "      <th>timePlayed</th>\n",
       "      <th>gamesPlayed</th>\n",
       "      <th>losses</th>\n",
       "      <th>kills</th>\n",
       "      <th>deaths</th>\n",
       "      <th>assists</th>\n",
       "      <th>headshots</th>\n",
       "      <th>hits</th>\n",
       "      <th>misses</th>\n",
       "      <th>shots</th>\n",
       "      <th>accuracy</th>\n",
       "      <th>kdRatio</th>\n",
       "      <th>level</th>\n",
       "      <th>prestige</th>\n",
       "      <th>scorePerMinute</th>\n",
       "      <th>wins</th>\n",
       "    </tr>\n",
       "  </thead>\n",
       "  <tbody>\n",
       "    <tr>\n",
       "      <th>count</th>\n",
       "      <td>6.082000e+03</td>\n",
       "      <td>4.940000e+03</td>\n",
       "      <td>6082.000000</td>\n",
       "      <td>4823.000000</td>\n",
       "      <td>5201.000000</td>\n",
       "      <td>6077.000000</td>\n",
       "      <td>6082.000000</td>\n",
       "      <td>5591.000000</td>\n",
       "      <td>5991.000000</td>\n",
       "      <td>4920.000000</td>\n",
       "      <td>4.929000e+03</td>\n",
       "      <td>4.929000e+03</td>\n",
       "      <td>4626.000000</td>\n",
       "      <td>6077.000000</td>\n",
       "      <td>6082.000000</td>\n",
       "      <td>5113.000000</td>\n",
       "      <td>4940.000000</td>\n",
       "      <td>5189.000000</td>\n",
       "    </tr>\n",
       "    <tr>\n",
       "      <th>mean</th>\n",
       "      <td>1.295521e+06</td>\n",
       "      <td>2.052550e+05</td>\n",
       "      <td>631.740710</td>\n",
       "      <td>219.329048</td>\n",
       "      <td>8.373197</td>\n",
       "      <td>5692.525917</td>\n",
       "      <td>5774.828017</td>\n",
       "      <td>1117.174566</td>\n",
       "      <td>964.926390</td>\n",
       "      <td>18918.452033</td>\n",
       "      <td>8.327957e+04</td>\n",
       "      <td>1.021631e+05</td>\n",
       "      <td>54.425638</td>\n",
       "      <td>0.823344</td>\n",
       "      <td>64.914666</td>\n",
       "      <td>83.327401</td>\n",
       "      <td>168.307023</td>\n",
       "      <td>259.263056</td>\n",
       "    </tr>\n",
       "    <tr>\n",
       "      <th>std</th>\n",
       "      <td>2.158772e+06</td>\n",
       "      <td>3.101811e+05</td>\n",
       "      <td>899.107774</td>\n",
       "      <td>338.773808</td>\n",
       "      <td>8.425358</td>\n",
       "      <td>10172.766381</td>\n",
       "      <td>9806.566170</td>\n",
       "      <td>1896.788914</td>\n",
       "      <td>1702.072265</td>\n",
       "      <td>29667.816093</td>\n",
       "      <td>1.297537e+05</td>\n",
       "      <td>1.584875e+05</td>\n",
       "      <td>1.382745</td>\n",
       "      <td>0.397735</td>\n",
       "      <td>76.648261</td>\n",
       "      <td>42.750001</td>\n",
       "      <td>101.561127</td>\n",
       "      <td>364.766794</td>\n",
       "    </tr>\n",
       "    <tr>\n",
       "      <th>min</th>\n",
       "      <td>3.000000e+02</td>\n",
       "      <td>1.100000e+01</td>\n",
       "      <td>10.000000</td>\n",
       "      <td>1.000000</td>\n",
       "      <td>1.000000</td>\n",
       "      <td>1.000000</td>\n",
       "      <td>14.000000</td>\n",
       "      <td>1.000000</td>\n",
       "      <td>1.000000</td>\n",
       "      <td>1.000000</td>\n",
       "      <td>2.000000e+00</td>\n",
       "      <td>1.000000e+00</td>\n",
       "      <td>50.000000</td>\n",
       "      <td>0.028571</td>\n",
       "      <td>1.000000</td>\n",
       "      <td>1.000000</td>\n",
       "      <td>0.048903</td>\n",
       "      <td>1.000000</td>\n",
       "    </tr>\n",
       "    <tr>\n",
       "      <th>25%</th>\n",
       "      <td>5.825875e+04</td>\n",
       "      <td>1.431850e+04</td>\n",
       "      <td>49.000000</td>\n",
       "      <td>15.000000</td>\n",
       "      <td>4.000000</td>\n",
       "      <td>162.000000</td>\n",
       "      <td>243.250000</td>\n",
       "      <td>57.000000</td>\n",
       "      <td>31.000000</td>\n",
       "      <td>1027.000000</td>\n",
       "      <td>5.174000e+03</td>\n",
       "      <td>6.199000e+03</td>\n",
       "      <td>54.000000</td>\n",
       "      <td>0.631196</td>\n",
       "      <td>11.000000</td>\n",
       "      <td>40.000000</td>\n",
       "      <td>76.582522</td>\n",
       "      <td>23.000000</td>\n",
       "    </tr>\n",
       "    <tr>\n",
       "      <th>50%</th>\n",
       "      <td>3.467095e+05</td>\n",
       "      <td>7.511100e+04</td>\n",
       "      <td>231.000000</td>\n",
       "      <td>81.000000</td>\n",
       "      <td>7.000000</td>\n",
       "      <td>1246.000000</td>\n",
       "      <td>1520.000000</td>\n",
       "      <td>330.000000</td>\n",
       "      <td>235.000000</td>\n",
       "      <td>6369.500000</td>\n",
       "      <td>2.891300e+04</td>\n",
       "      <td>3.563000e+04</td>\n",
       "      <td>54.000000</td>\n",
       "      <td>0.867500</td>\n",
       "      <td>32.000000</td>\n",
       "      <td>110.000000</td>\n",
       "      <td>181.443065</td>\n",
       "      <td>107.000000</td>\n",
       "    </tr>\n",
       "    <tr>\n",
       "      <th>75%</th>\n",
       "      <td>1.544910e+06</td>\n",
       "      <td>2.673020e+05</td>\n",
       "      <td>857.000000</td>\n",
       "      <td>280.000000</td>\n",
       "      <td>11.000000</td>\n",
       "      <td>6731.000000</td>\n",
       "      <td>6996.000000</td>\n",
       "      <td>1373.000000</td>\n",
       "      <td>1169.500000</td>\n",
       "      <td>24581.000000</td>\n",
       "      <td>1.101630e+05</td>\n",
       "      <td>1.349580e+05</td>\n",
       "      <td>55.000000</td>\n",
       "      <td>0.996044</td>\n",
       "      <td>101.000000</td>\n",
       "      <td>111.000000</td>\n",
       "      <td>254.467310</td>\n",
       "      <td>351.000000</td>\n",
       "    </tr>\n",
       "    <tr>\n",
       "      <th>max</th>\n",
       "      <td>3.133592e+07</td>\n",
       "      <td>3.388660e+06</td>\n",
       "      <td>8162.000000</td>\n",
       "      <td>5763.000000</td>\n",
       "      <td>252.000000</td>\n",
       "      <td>114523.000000</td>\n",
       "      <td>113049.000000</td>\n",
       "      <td>31459.000000</td>\n",
       "      <td>25703.000000</td>\n",
       "      <td>371873.000000</td>\n",
       "      <td>1.867686e+06</td>\n",
       "      <td>2.201557e+06</td>\n",
       "      <td>62.000000</td>\n",
       "      <td>11.857143</td>\n",
       "      <td>816.000000</td>\n",
       "      <td>117.000000</td>\n",
       "      <td>519.685714</td>\n",
       "      <td>4276.000000</td>\n",
       "    </tr>\n",
       "  </tbody>\n",
       "</table>\n",
       "</div>"
      ],
      "text/plain": [
       "                 xp         score   timePlayed  gamesPlayed       losses  \\\n",
       "count  6.082000e+03  4.940000e+03  6082.000000  4823.000000  5201.000000   \n",
       "mean   1.295521e+06  2.052550e+05   631.740710   219.329048     8.373197   \n",
       "std    2.158772e+06  3.101811e+05   899.107774   338.773808     8.425358   \n",
       "min    3.000000e+02  1.100000e+01    10.000000     1.000000     1.000000   \n",
       "25%    5.825875e+04  1.431850e+04    49.000000    15.000000     4.000000   \n",
       "50%    3.467095e+05  7.511100e+04   231.000000    81.000000     7.000000   \n",
       "75%    1.544910e+06  2.673020e+05   857.000000   280.000000    11.000000   \n",
       "max    3.133592e+07  3.388660e+06  8162.000000  5763.000000   252.000000   \n",
       "\n",
       "               kills         deaths       assists     headshots  \\\n",
       "count    6077.000000    6082.000000   5591.000000   5991.000000   \n",
       "mean     5692.525917    5774.828017   1117.174566    964.926390   \n",
       "std     10172.766381    9806.566170   1896.788914   1702.072265   \n",
       "min         1.000000      14.000000      1.000000      1.000000   \n",
       "25%       162.000000     243.250000     57.000000     31.000000   \n",
       "50%      1246.000000    1520.000000    330.000000    235.000000   \n",
       "75%      6731.000000    6996.000000   1373.000000   1169.500000   \n",
       "max    114523.000000  113049.000000  31459.000000  25703.000000   \n",
       "\n",
       "                hits        misses         shots     accuracy      kdRatio  \\\n",
       "count    4920.000000  4.929000e+03  4.929000e+03  4626.000000  6077.000000   \n",
       "mean    18918.452033  8.327957e+04  1.021631e+05    54.425638     0.823344   \n",
       "std     29667.816093  1.297537e+05  1.584875e+05     1.382745     0.397735   \n",
       "min         1.000000  2.000000e+00  1.000000e+00    50.000000     0.028571   \n",
       "25%      1027.000000  5.174000e+03  6.199000e+03    54.000000     0.631196   \n",
       "50%      6369.500000  2.891300e+04  3.563000e+04    54.000000     0.867500   \n",
       "75%     24581.000000  1.101630e+05  1.349580e+05    55.000000     0.996044   \n",
       "max    371873.000000  1.867686e+06  2.201557e+06    62.000000    11.857143   \n",
       "\n",
       "             level     prestige  scorePerMinute         wins  \n",
       "count  6082.000000  5113.000000     4940.000000  5189.000000  \n",
       "mean     64.914666    83.327401      168.307023   259.263056  \n",
       "std      76.648261    42.750001      101.561127   364.766794  \n",
       "min       1.000000     1.000000        0.048903     1.000000  \n",
       "25%      11.000000    40.000000       76.582522    23.000000  \n",
       "50%      32.000000   110.000000      181.443065   107.000000  \n",
       "75%     101.000000   111.000000      254.467310   351.000000  \n",
       "max     816.000000   117.000000      519.685714  4276.000000  "
      ]
     },
     "execution_count": 3,
     "metadata": {},
     "output_type": "execute_result"
    }
   ],
   "source": [
    "df.describe()"
   ]
  },
  {
   "cell_type": "code",
   "execution_count": 13,
   "metadata": {},
   "outputs": [],
   "source": [
    "# from numpy import nan\n",
    "# missing_values = df.replace(0,nan)"
   ]
  },
  {
   "cell_type": "code",
   "execution_count": 4,
   "metadata": {},
   "outputs": [
    {
     "data": {
      "text/plain": [
       "score             1142\n",
       "gamesPlayed       1259\n",
       "losses             881\n",
       "kills                5\n",
       "assists            491\n",
       "headshots           91\n",
       "hits              1162\n",
       "misses            1153\n",
       "shots             1153\n",
       "accuracy          1456\n",
       "kdRatio              5\n",
       "prestige           969\n",
       "scorePerMinute    1142\n",
       "wins               893\n",
       "dtype: int64"
      ]
     },
     "execution_count": 4,
     "metadata": {},
     "output_type": "execute_result"
    }
   ],
   "source": [
    " col_miss = df.columns[df.isna().any()]\n",
    "df[col_miss].isna().sum()"
   ]
  },
  {
   "cell_type": "code",
   "execution_count": 5,
   "metadata": {
    "scrolled": true
   },
   "outputs": [
    {
     "data": {
      "text/plain": [
       "<AxesSubplot:>"
      ]
     },
     "execution_count": 5,
     "metadata": {},
     "output_type": "execute_result"
    },
    {
     "data": {
      "image/png": "[encoded data removed]",
      "text/plain": [
       "<Figure size 1728x720 with 3 Axes>"
      ]
     },
     "metadata": {
      "needs_background": "light"
     },
     "output_type": "display_data"
    }
   ],
   "source": [
    "import missingno as msno\n",
    "msno.bar(df)"
   ]
  },
  {
   "cell_type": "code",
   "execution_count": 7,
   "metadata": {},
   "outputs": [
    {
     "data": {
      "text/html": [
       "<div>\n",
       "<style scoped>\n",
       "    .dataframe tbody tr th:only-of-type {\n",
       "        vertical-align: middle;\n",
       "    }\n",
       "\n",
       "    .dataframe tbody tr th {\n",
       "        vertical-align: top;\n",
       "    }\n",
       "\n",
       "    .dataframe thead th {\n",
       "        text-align: right;\n",
       "    }\n",
       "</style>\n",
       "<table border=\"1\" class=\"dataframe\">\n",
       "  <thead>\n",
       "    <tr style=\"text-align: right;\">\n",
       "      <th></th>\n",
       "      <th>xp</th>\n",
       "      <th>score</th>\n",
       "      <th>timePlayed</th>\n",
       "      <th>gamesPlayed</th>\n",
       "      <th>losses</th>\n",
       "      <th>kills</th>\n",
       "      <th>deaths</th>\n",
       "      <th>assists</th>\n",
       "      <th>headshots</th>\n",
       "      <th>hits</th>\n",
       "      <th>misses</th>\n",
       "      <th>shots</th>\n",
       "      <th>accuracy</th>\n",
       "      <th>kdRatio</th>\n",
       "      <th>level</th>\n",
       "      <th>prestige</th>\n",
       "      <th>scorePerMinute</th>\n",
       "      <th>wins</th>\n",
       "    </tr>\n",
       "  </thead>\n",
       "  <tbody>\n",
       "    <tr>\n",
       "      <th>xp</th>\n",
       "      <td>1.000000</td>\n",
       "      <td>0.720573</td>\n",
       "      <td>0.929481</td>\n",
       "      <td>0.726785</td>\n",
       "      <td>0.431575</td>\n",
       "      <td>0.866077</td>\n",
       "      <td>0.839747</td>\n",
       "      <td>0.796852</td>\n",
       "      <td>0.868454</td>\n",
       "      <td>0.755138</td>\n",
       "      <td>0.747342</td>\n",
       "      <td>0.753144</td>\n",
       "      <td>0.116983</td>\n",
       "      <td>0.309454</td>\n",
       "      <td>0.969785</td>\n",
       "      <td>0.228235</td>\n",
       "      <td>-0.076216</td>\n",
       "      <td>0.789985</td>\n",
       "    </tr>\n",
       "    <tr>\n",
       "      <th>score</th>\n",
       "      <td>0.720573</td>\n",
       "      <td>1.000000</td>\n",
       "      <td>0.832981</td>\n",
       "      <td>0.973343</td>\n",
       "      <td>0.470879</td>\n",
       "      <td>0.922002</td>\n",
       "      <td>0.935426</td>\n",
       "      <td>0.867437</td>\n",
       "      <td>0.880528</td>\n",
       "      <td>0.906554</td>\n",
       "      <td>0.920385</td>\n",
       "      <td>0.923150</td>\n",
       "      <td>0.102114</td>\n",
       "      <td>0.266400</td>\n",
       "      <td>0.738699</td>\n",
       "      <td>0.155230</td>\n",
       "      <td>0.290766</td>\n",
       "      <td>0.929605</td>\n",
       "    </tr>\n",
       "    <tr>\n",
       "      <th>timePlayed</th>\n",
       "      <td>0.929481</td>\n",
       "      <td>0.832981</td>\n",
       "      <td>1.000000</td>\n",
       "      <td>0.826139</td>\n",
       "      <td>0.455945</td>\n",
       "      <td>0.865235</td>\n",
       "      <td>0.872975</td>\n",
       "      <td>0.796255</td>\n",
       "      <td>0.851721</td>\n",
       "      <td>0.781093</td>\n",
       "      <td>0.791492</td>\n",
       "      <td>0.794125</td>\n",
       "      <td>0.073934</td>\n",
       "      <td>0.267535</td>\n",
       "      <td>0.940685</td>\n",
       "      <td>0.248700</td>\n",
       "      <td>-0.049425</td>\n",
       "      <td>0.910631</td>\n",
       "    </tr>\n",
       "    <tr>\n",
       "      <th>gamesPlayed</th>\n",
       "      <td>0.726785</td>\n",
       "      <td>0.973343</td>\n",
       "      <td>0.826139</td>\n",
       "      <td>1.000000</td>\n",
       "      <td>0.528458</td>\n",
       "      <td>0.923732</td>\n",
       "      <td>0.920910</td>\n",
       "      <td>0.879990</td>\n",
       "      <td>0.886408</td>\n",
       "      <td>0.910662</td>\n",
       "      <td>0.911710</td>\n",
       "      <td>0.916860</td>\n",
       "      <td>0.125848</td>\n",
       "      <td>0.278215</td>\n",
       "      <td>0.738142</td>\n",
       "      <td>0.157695</td>\n",
       "      <td>0.236891</td>\n",
       "      <td>0.898430</td>\n",
       "    </tr>\n",
       "    <tr>\n",
       "      <th>losses</th>\n",
       "      <td>0.431575</td>\n",
       "      <td>0.470879</td>\n",
       "      <td>0.455945</td>\n",
       "      <td>0.528458</td>\n",
       "      <td>1.000000</td>\n",
       "      <td>0.477956</td>\n",
       "      <td>0.452434</td>\n",
       "      <td>0.487845</td>\n",
       "      <td>0.477045</td>\n",
       "      <td>0.471448</td>\n",
       "      <td>0.460005</td>\n",
       "      <td>0.464865</td>\n",
       "      <td>0.194483</td>\n",
       "      <td>0.229086</td>\n",
       "      <td>0.460972</td>\n",
       "      <td>0.028448</td>\n",
       "      <td>0.171400</td>\n",
       "      <td>0.413653</td>\n",
       "    </tr>\n",
       "  </tbody>\n",
       "</table>\n",
       "</div>"
      ],
      "text/plain": [
       "                   xp     score  timePlayed  gamesPlayed    losses     kills  \\\n",
       "xp           1.000000  0.720573    0.929481     0.726785  0.431575  0.866077   \n",
       "score        0.720573  1.000000    0.832981     0.973343  0.470879  0.922002   \n",
       "timePlayed   0.929481  0.832981    1.000000     0.826139  0.455945  0.865235   \n",
       "gamesPlayed  0.726785  0.973343    0.826139     1.000000  0.528458  0.923732   \n",
       "losses       0.431575  0.470879    0.455945     0.528458  1.000000  0.477956   \n",
       "\n",
       "               deaths   assists  headshots      hits    misses     shots  \\\n",
       "xp           0.839747  0.796852   0.868454  0.755138  0.747342  0.753144   \n",
       "score        0.935426  0.867437   0.880528  0.906554  0.920385  0.923150   \n",
       "timePlayed   0.872975  0.796255   0.851721  0.781093  0.791492  0.794125   \n",
       "gamesPlayed  0.920910  0.879990   0.886408  0.910662  0.911710  0.916860   \n",
       "losses       0.452434  0.487845   0.477045  0.471448  0.460005  0.464865   \n",
       "\n",
       "             accuracy   kdRatio     level  prestige  scorePerMinute      wins  \n",
       "xp           0.116983  0.309454  0.969785  0.228235       -0.076216  0.789985  \n",
       "score        0.102114  0.266400  0.738699  0.155230        0.290766  0.929605  \n",
       "timePlayed   0.073934  0.267535  0.940685  0.248700       -0.049425  0.910631  \n",
       "gamesPlayed  0.125848  0.278215  0.738142  0.157695        0.236891  0.898430  \n",
       "losses       0.194483  0.229086  0.460972  0.028448        0.171400  0.413653  "
      ]
     },
     "execution_count": 7,
     "metadata": {},
     "output_type": "execute_result"
    }
   ],
   "source": [
    "corr = df.corr()\n",
    "corr.head()"
   ]
  },
  {
   "cell_type": "code",
   "execution_count": 24,
   "metadata": {},
   "outputs": [],
   "source": [
    "# #View Distributions of each feature through histogram\n",
    "# # \n",
    "# import seaborn as sns\n",
    "# sns.pairplot(df, hue=\"kdRatio\", diag_kind=\"hist\")\n",
    "# plt.show()\n"
   ]
  },
  {
   "cell_type": "code",
   "execution_count": null,
   "metadata": {},
   "outputs": [],
   "source": []
  },
  {
   "cell_type": "code",
   "execution_count": 8,
   "metadata": {},
   "outputs": [
    {
     "data": {
      "text/plain": [
       "<AxesSubplot:>"
      ]
     },
     "execution_count": 8,
     "metadata": {},
     "output_type": "execute_result"
    },
    {
     "data": {
      "image/png": "[encoded data removed]",
      "text/plain": [
       "<Figure size 432x288 with 2 Axes>"
      ]
     },
     "metadata": {
      "needs_background": "light"
     },
     "output_type": "display_data"
    }
   ],
   "source": [
    "import seaborn as sns\n",
    "sns.heatmap(corr)"
   ]
  },
  {
   "cell_type": "code",
   "execution_count": 9,
   "metadata": {},
   "outputs": [],
   "source": [
    "# Knn imputation on missing values\n",
    "import numpy as np\n",
    "from sklearn.impute import KNNImputer\n",
    "\n",
    "nan = np.nan\n",
    "imputer = KNNImputer(n_neighbors=2, weights=\"uniform\",metric='nan_euclidean')\n",
    "imputed = imputer.fit_transform(df)\n"
   ]
  },
  {
   "cell_type": "code",
   "execution_count": 10,
   "metadata": {},
   "outputs": [
    {
     "data": {
      "text/html": [
       "<div>\n",
       "<style scoped>\n",
       "    .dataframe tbody tr th:only-of-type {\n",
       "        vertical-align: middle;\n",
       "    }\n",
       "\n",
       "    .dataframe tbody tr th {\n",
       "        vertical-align: top;\n",
       "    }\n",
       "\n",
       "    .dataframe thead th {\n",
       "        text-align: right;\n",
       "    }\n",
       "</style>\n",
       "<table border=\"1\" class=\"dataframe\">\n",
       "  <thead>\n",
       "    <tr style=\"text-align: right;\">\n",
       "      <th></th>\n",
       "      <th>xp</th>\n",
       "      <th>score</th>\n",
       "      <th>timePlayed</th>\n",
       "      <th>gamesPlayed</th>\n",
       "      <th>losses</th>\n",
       "      <th>kills</th>\n",
       "      <th>deaths</th>\n",
       "      <th>assists</th>\n",
       "      <th>headshots</th>\n",
       "      <th>hits</th>\n",
       "      <th>misses</th>\n",
       "      <th>shots</th>\n",
       "      <th>accuracy</th>\n",
       "      <th>kdRatio</th>\n",
       "      <th>level</th>\n",
       "      <th>prestige</th>\n",
       "      <th>scorePerMinute</th>\n",
       "      <th>wins</th>\n",
       "    </tr>\n",
       "  </thead>\n",
       "  <tbody>\n",
       "    <tr>\n",
       "      <th>0</th>\n",
       "      <td>439313.0</td>\n",
       "      <td>408.0</td>\n",
       "      <td>437.0</td>\n",
       "      <td>5.5</td>\n",
       "      <td>4.0</td>\n",
       "      <td>455.0</td>\n",
       "      <td>990.0</td>\n",
       "      <td>160.0</td>\n",
       "      <td>84.0</td>\n",
       "      <td>26.0</td>\n",
       "      <td>109.0</td>\n",
       "      <td>135.0</td>\n",
       "      <td>53.0</td>\n",
       "      <td>0.459596</td>\n",
       "      <td>36.0</td>\n",
       "      <td>110.0</td>\n",
       "      <td>0.560183</td>\n",
       "      <td>21.0</td>\n",
       "    </tr>\n",
       "    <tr>\n",
       "      <th>1</th>\n",
       "      <td>4192203.0</td>\n",
       "      <td>324849.0</td>\n",
       "      <td>2109.0</td>\n",
       "      <td>337.0</td>\n",
       "      <td>11.0</td>\n",
       "      <td>16220.0</td>\n",
       "      <td>17291.0</td>\n",
       "      <td>3546.0</td>\n",
       "      <td>3499.0</td>\n",
       "      <td>43075.0</td>\n",
       "      <td>163545.0</td>\n",
       "      <td>206620.0</td>\n",
       "      <td>55.0</td>\n",
       "      <td>0.938060</td>\n",
       "      <td>183.0</td>\n",
       "      <td>110.0</td>\n",
       "      <td>92.417923</td>\n",
       "      <td>348.0</td>\n",
       "    </tr>\n",
       "    <tr>\n",
       "      <th>2</th>\n",
       "      <td>186507.0</td>\n",
       "      <td>12533.5</td>\n",
       "      <td>134.0</td>\n",
       "      <td>17.5</td>\n",
       "      <td>3.0</td>\n",
       "      <td>311.0</td>\n",
       "      <td>322.0</td>\n",
       "      <td>60.0</td>\n",
       "      <td>72.0</td>\n",
       "      <td>1077.0</td>\n",
       "      <td>2525.0</td>\n",
       "      <td>3602.0</td>\n",
       "      <td>57.5</td>\n",
       "      <td>0.965839</td>\n",
       "      <td>22.0</td>\n",
       "      <td>110.0</td>\n",
       "      <td>59.205516</td>\n",
       "      <td>9.0</td>\n",
       "    </tr>\n",
       "    <tr>\n",
       "      <th>3</th>\n",
       "      <td>255260.0</td>\n",
       "      <td>36489.0</td>\n",
       "      <td>106.0</td>\n",
       "      <td>50.0</td>\n",
       "      <td>7.0</td>\n",
       "      <td>1534.0</td>\n",
       "      <td>1487.0</td>\n",
       "      <td>396.0</td>\n",
       "      <td>207.0</td>\n",
       "      <td>6800.0</td>\n",
       "      <td>30365.0</td>\n",
       "      <td>37165.0</td>\n",
       "      <td>55.0</td>\n",
       "      <td>1.031607</td>\n",
       "      <td>27.0</td>\n",
       "      <td>5.0</td>\n",
       "      <td>206.541509</td>\n",
       "      <td>49.0</td>\n",
       "    </tr>\n",
       "    <tr>\n",
       "      <th>4</th>\n",
       "      <td>10395.0</td>\n",
       "      <td>3412.5</td>\n",
       "      <td>13.0</td>\n",
       "      <td>2.5</td>\n",
       "      <td>2.0</td>\n",
       "      <td>11.0</td>\n",
       "      <td>24.0</td>\n",
       "      <td>4.5</td>\n",
       "      <td>3.0</td>\n",
       "      <td>215.0</td>\n",
       "      <td>938.0</td>\n",
       "      <td>1082.0</td>\n",
       "      <td>53.0</td>\n",
       "      <td>0.458333</td>\n",
       "      <td>3.0</td>\n",
       "      <td>110.0</td>\n",
       "      <td>107.763158</td>\n",
       "      <td>13.0</td>\n",
       "    </tr>\n",
       "  </tbody>\n",
       "</table>\n",
       "</div>"
      ],
      "text/plain": [
       "          xp     score  timePlayed  gamesPlayed  losses    kills   deaths  \\\n",
       "0   439313.0     408.0       437.0          5.5     4.0    455.0    990.0   \n",
       "1  4192203.0  324849.0      2109.0        337.0    11.0  16220.0  17291.0   \n",
       "2   186507.0   12533.5       134.0         17.5     3.0    311.0    322.0   \n",
       "3   255260.0   36489.0       106.0         50.0     7.0   1534.0   1487.0   \n",
       "4    10395.0    3412.5        13.0          2.5     2.0     11.0     24.0   \n",
       "\n",
       "   assists  headshots     hits    misses     shots  accuracy   kdRatio  level  \\\n",
       "0    160.0       84.0     26.0     109.0     135.0      53.0  0.459596   36.0   \n",
       "1   3546.0     3499.0  43075.0  163545.0  206620.0      55.0  0.938060  183.0   \n",
       "2     60.0       72.0   1077.0    2525.0    3602.0      57.5  0.965839   22.0   \n",
       "3    396.0      207.0   6800.0   30365.0   37165.0      55.0  1.031607   27.0   \n",
       "4      4.5        3.0    215.0     938.0    1082.0      53.0  0.458333    3.0   \n",
       "\n",
       "   prestige  scorePerMinute   wins  \n",
       "0     110.0        0.560183   21.0  \n",
       "1     110.0       92.417923  348.0  \n",
       "2     110.0       59.205516    9.0  \n",
       "3       5.0      206.541509   49.0  \n",
       "4     110.0      107.763158   13.0  "
      ]
     },
     "execution_count": 10,
     "metadata": {},
     "output_type": "execute_result"
    }
   ],
   "source": [
    "predf= pd.DataFrame(imputed, columns = df.columns)\n",
    "predf.head()"
   ]
  },
  {
   "cell_type": "code",
   "execution_count": 11,
   "metadata": {},
   "outputs": [
    {
     "name": "stdout",
     "output_type": "stream",
     "text": [
      "Missing: 0\n"
     ]
    }
   ],
   "source": [
    "# Missing value of x_train data\n",
    "from numpy import isnan\n",
    "predf = imputer.transform(predf)\n",
    "print('Missing: %d' % sum(isnan(predf).flatten()))"
   ]
  },
  {
   "cell_type": "code",
   "execution_count": 12,
   "metadata": {},
   "outputs": [],
   "source": [
    "#spliting the data into trai and test data \n",
    "from sklearn.datasets import make_blobs\n",
    "x, y = make_blobs(n_samples=6082)"
   ]
  },
  {
   "cell_type": "code",
   "execution_count": 13,
   "metadata": {},
   "outputs": [
    {
     "data": {
      "text/plain": [
       "(6082, 2)"
      ]
     },
     "execution_count": 13,
     "metadata": {},
     "output_type": "execute_result"
    }
   ],
   "source": [
    "x.shape"
   ]
  },
  {
   "cell_type": "code",
   "execution_count": 14,
   "metadata": {},
   "outputs": [
    {
     "data": {
      "text/plain": [
       "(6082,)"
      ]
     },
     "execution_count": 14,
     "metadata": {},
     "output_type": "execute_result"
    }
   ],
   "source": [
    "y.shape"
   ]
  },
  {
   "cell_type": "code",
   "execution_count": 15,
   "metadata": {},
   "outputs": [
    {
     "name": "stdout",
     "output_type": "stream",
     "text": [
      "             0         1\n",
      "0     7.224421 -4.416850\n",
      "1    -9.503233  0.080410\n",
      "2    -3.978999  6.161886\n",
      "3    -6.013266  5.544829\n",
      "4    -5.256608  5.796612\n",
      "...        ...       ...\n",
      "4860 -8.214790 -0.104076\n",
      "4861 -9.058924 -0.144670\n",
      "4862  4.439489 -3.740024\n",
      "4863  7.866968 -3.767501\n",
      "4864 -8.424470  1.414939\n",
      "\n",
      "[4865 rows x 2 columns]\n"
     ]
    }
   ],
   "source": [
    "from sklearn.model_selection import train_test_split\n",
    "\n",
    "x_train, x_test, y_train, y_test = train_test_split(x,y,test_size = 0.2)\n",
    "print(pd.DataFrame(x_train))\n"
   ]
  },
  {
   "cell_type": "code",
   "execution_count": 16,
   "metadata": {},
   "outputs": [],
   "source": [
    "from sklearn.ensemble import RandomForestRegressor\n",
    "from sklearn.metrics import mean_squared_error\n",
    "\n",
    "rmse = lambda y, yhat: np.sqrt(mean_squared_error(y, yhat))\n",
    "def optimize_k(df, target):\n",
    "    errors = []\n",
    "    for k in range(1, 20, 2):\n",
    "        imputer = KNNImputer(n_neighbors=k)\n",
    "        imputed = imputer.fit_transform(df)\n",
    "        df_imputed = pd.DataFrame(imputed, columns=df.columns)\n",
    "        \n",
    "        X = df_imputed.drop(target, axis=1)\n",
    "        y = df_imputed[target]\n",
    "        X_train, X_test, y_train, y_test = train_test_split(X, y, test_size=0.2, random_state=42)\n",
    "\n",
    "        model = RandomForestRegressor()\n",
    "        model.fit(X_train, y_train)\n",
    "        preds = model.predict(X_test)\n",
    "        error = rmse(y_test, preds)\n",
    "        errors.append({'K': k, 'RMSE': error})\n",
    "        \n",
    "    return errors"
   ]
  },
  {
   "cell_type": "code",
   "execution_count": 17,
   "metadata": {},
   "outputs": [],
   "source": [
    "k_errors = optimize_k(df, target= 'kdRatio')"
   ]
  },
  {
   "cell_type": "code",
   "execution_count": 18,
   "metadata": {},
   "outputs": [
    {
     "data": {
      "text/plain": [
       "[{'K': 1, 'RMSE': 0.12214391119950736},\n",
       " {'K': 3, 'RMSE': 0.10955520556961149},\n",
       " {'K': 5, 'RMSE': 0.11669295995147734},\n",
       " {'K': 7, 'RMSE': 0.11191937279911489},\n",
       " {'K': 9, 'RMSE': 0.11937733396833079},\n",
       " {'K': 11, 'RMSE': 0.11624969231640495},\n",
       " {'K': 13, 'RMSE': 0.11679008010891313},\n",
       " {'K': 15, 'RMSE': 0.1187689882726849},\n",
       " {'K': 17, 'RMSE': 0.11704269828677068},\n",
       " {'K': 19, 'RMSE': 0.11629225473732073}]"
      ]
     },
     "execution_count": 18,
     "metadata": {},
     "output_type": "execute_result"
    }
   ],
   "source": [
    "k_errors"
   ]
  },
  {
   "cell_type": "code",
   "execution_count": 19,
   "metadata": {},
   "outputs": [],
   "source": [
    "from sklearn.ensemble import RandomForestClassifier\n",
    "from sklearn.impute import KNNImputer\n",
    "from sklearn.model_selection import cross_val_score\n",
    "from sklearn.model_selection import RepeatedStratifiedKFold\n",
    "from sklearn.pipeline import Pipeline"
   ]
  },
  {
   "cell_type": "code",
   "execution_count": 20,
   "metadata": {},
   "outputs": [
    {
     "name": "stdout",
     "output_type": "stream",
     "text": [
      "            xp     score  timePlayed  gamesPlayed    losses     kills  \\\n",
      "0    -0.396651 -0.578439   -0.216611    -0.541983 -0.424757 -0.514586   \n",
      "1     1.341930  0.540158    1.643163     0.514811  0.437127  1.035706   \n",
      "2    -0.513767 -0.536633   -0.553640    -0.503728 -0.547883 -0.528746   \n",
      "3    -0.481916 -0.454040   -0.584784    -0.400121 -0.055378 -0.408479   \n",
      "4    -0.595353 -0.568080   -0.688228    -0.551547 -0.671010 -0.558248   \n",
      "...        ...       ...         ...          ...       ...       ...   \n",
      "6077  0.101783  0.351551    0.083711     0.272529  0.560253  0.356193   \n",
      "6078 -0.038478  0.785270    0.214963     0.594509  0.190874  0.156667   \n",
      "6079 -0.400639 -0.240865   -0.377895    -0.208846  0.683379 -0.308569   \n",
      "6080  0.047422 -0.462560    0.295049    -0.470255 -0.301631 -0.315550   \n",
      "6081 -0.575127 -0.503433   -0.644849    -0.483007 -0.301631 -0.512717   \n",
      "\n",
      "        deaths   assists  headshots      hits    misses     shots  accuracy  \\\n",
      "0    -0.487961 -0.471422  -0.511774 -0.556844 -0.561373 -0.563523 -0.865509   \n",
      "1     1.174429  1.365991   1.505135  1.000408  0.789207  0.832970  0.543774   \n",
      "2    -0.556084 -0.525687  -0.518861 -0.518825 -0.541408 -0.540075  2.305378   \n",
      "3    -0.437276 -0.343356  -0.439130 -0.311801 -0.311348 -0.313083  0.543774   \n",
      "4    -0.586474 -0.555804  -0.559613 -0.550007 -0.554523 -0.557119 -0.865509   \n",
      "...        ...       ...        ...       ...       ...       ...       ...   \n",
      "6077  0.392848  0.620390   0.256010  0.379048  0.565724  0.533896 -0.160867   \n",
      "6078  0.227639  0.451626   0.279043  0.556952  0.627991  0.618118 -0.160867   \n",
      "6079 -0.324792 -0.318937  -0.241869 -0.262786 -0.306588 -0.300023  0.543774   \n",
      "6080 -0.275433 -0.271184  -0.357036 -0.500014 -0.448293 -0.460351 -1.570150   \n",
      "6081 -0.526918 -0.526772  -0.504096 -0.524902 -0.503081 -0.509844 -1.570150   \n",
      "\n",
      "       kdRatio     level  prestige  scorePerMinute      wins  \n",
      "0    -0.912439 -0.377269  0.613474       -1.525528 -0.585940  \n",
      "1     0.289633  1.540740  0.613474       -0.609946  0.355331  \n",
      "2     0.359422 -0.559937  0.613474       -0.940987 -0.620482  \n",
      "3     0.524656 -0.494699 -1.966161        0.527568 -0.505342  \n",
      "4    -0.915611 -0.807843  0.613474       -0.456994 -0.608968  \n",
      "...        ...       ...       ...             ...       ...  \n",
      "6077  0.362520  0.444735  0.638042        0.754014  0.297761  \n",
      "6078  0.217450  0.170733  0.613474        1.339076  0.263219  \n",
      "6079  0.406446 -0.377269  0.613474        0.482553 -0.272183  \n",
      "6080 -0.041041  0.340353  0.638042       -1.304308  0.030060  \n",
      "6081 -0.108462 -0.716509  0.613474        1.017818 -0.574426  \n",
      "\n",
      "[6082 rows x 18 columns]\n"
     ]
    }
   ],
   "source": [
    "from sklearn import preprocessing\n",
    "from sklearn.preprocessing import StandardScaler\n",
    "# define standard scaler\n",
    "scaler = StandardScaler()\n",
    "# transform data\n",
    "scaled = scaler.fit_transform(predf)\n",
    "print(pd.DataFrame(scaled, columns = df.columns))"
   ]
  },
  {
   "cell_type": "code",
   "execution_count": 11,
   "metadata": {},
   "outputs": [],
   "source": [
    "# x = predf.iloc[:, :-1].values\n",
    "# print(X)"
   ]
  },
  {
   "cell_type": "code",
   "execution_count": 10,
   "metadata": {},
   "outputs": [],
   "source": [
    "# y = predf.iloc[:,:-1].values\n",
    "# print(y)"
   ]
  },
  {
   "cell_type": "code",
   "execution_count": 21,
   "metadata": {},
   "outputs": [
    {
     "data": {
      "text/plain": [
       "(4865, 2)"
      ]
     },
     "execution_count": 21,
     "metadata": {},
     "output_type": "execute_result"
    }
   ],
   "source": [
    "x_train.shape"
   ]
  },
  {
   "cell_type": "code",
   "execution_count": 22,
   "metadata": {},
   "outputs": [
    {
     "data": {
      "text/plain": [
       "(1217, 2)"
      ]
     },
     "execution_count": 22,
     "metadata": {},
     "output_type": "execute_result"
    }
   ],
   "source": [
    "x_test.shape"
   ]
  },
  {
   "cell_type": "code",
   "execution_count": 23,
   "metadata": {},
   "outputs": [
    {
     "data": {
      "text/plain": [
       "array([[ 7.22442106, -4.41684997],\n",
       "       [-9.5032327 ,  0.08041019],\n",
       "       [-3.97899877,  6.16188626],\n",
       "       ...,\n",
       "       [ 4.43948901, -3.74002359],\n",
       "       [ 7.86696767, -3.76750103],\n",
       "       [-8.42447038,  1.4149387 ]])"
      ]
     },
     "execution_count": 23,
     "metadata": {},
     "output_type": "execute_result"
    }
   ],
   "source": [
    "x_train"
   ]
  },
  {
   "cell_type": "code",
   "execution_count": 24,
   "metadata": {},
   "outputs": [
    {
     "data": {
      "text/plain": [
       "array([2, 1, 0, ..., 2, 2, 1])"
      ]
     },
     "execution_count": 24,
     "metadata": {},
     "output_type": "execute_result"
    }
   ],
   "source": [
    "y_train"
   ]
  },
  {
   "cell_type": "code",
   "execution_count": 25,
   "metadata": {},
   "outputs": [
    {
     "data": {
      "text/plain": [
       "array([[ 6.55160869, -3.80882916],\n",
       "       [-8.95474842,  0.54209506],\n",
       "       [ 6.16103082, -4.93871509],\n",
       "       ...,\n",
       "       [-3.8309897 ,  5.70355674],\n",
       "       [ 6.79413707, -5.2356497 ],\n",
       "       [-7.75332207,  0.63468489]])"
      ]
     },
     "execution_count": 25,
     "metadata": {},
     "output_type": "execute_result"
    }
   ],
   "source": [
    "x_test"
   ]
  },
  {
   "cell_type": "code",
   "execution_count": 26,
   "metadata": {},
   "outputs": [
    {
     "data": {
      "text/plain": [
       "array([2, 1, 2, ..., 0, 2, 1])"
      ]
     },
     "execution_count": 26,
     "metadata": {},
     "output_type": "execute_result"
    }
   ],
   "source": [
    "y_test"
   ]
  },
  {
   "cell_type": "code",
   "execution_count": 27,
   "metadata": {},
   "outputs": [
    {
     "data": {
      "text/plain": [
       "False"
      ]
     },
     "execution_count": 27,
     "metadata": {},
     "output_type": "execute_result"
    }
   ],
   "source": [
    "np.any(np.isnan(predf))"
   ]
  },
  {
   "cell_type": "code",
   "execution_count": 28,
   "metadata": {},
   "outputs": [
    {
     "data": {
      "text/plain": [
       "True"
      ]
     },
     "execution_count": 28,
     "metadata": {},
     "output_type": "execute_result"
    }
   ],
   "source": [
    "np.all(np.isfinite(predf))"
   ]
  },
  {
   "cell_type": "code",
   "execution_count": 29,
   "metadata": {},
   "outputs": [
    {
     "data": {
      "text/plain": [
       "(6082, 18)"
      ]
     },
     "execution_count": 29,
     "metadata": {},
     "output_type": "execute_result"
    }
   ],
   "source": [
    "predf.shape"
   ]
  },
  {
   "cell_type": "code",
   "execution_count": 30,
   "metadata": {},
   "outputs": [],
   "source": [
    "# train using neural networks\n",
    "from sklearn.preprocessing import MultiLabelBinarizer\n",
    "from sklearn.model_selection import train_test_split\n",
    "from sklearn.naive_bayes import BernoulliNB\n",
    "from sklearn.metrics import confusion_matrix\n",
    "from sklearn.feature_extraction.text import CountVectorizer\n",
    "from sklearn.naive_bayes import MultinomialNB\n",
    "from sklearn.metrics import precision_score\n",
    "from sklearn.metrics import recall_score\n",
    "from sklearn.neural_network import MLPClassifier"
   ]
  },
  {
   "cell_type": "code",
   "execution_count": 31,
   "metadata": {},
   "outputs": [],
   "source": [
    "from sklearn.neural_network import MLPClassifier\n",
    "from sklearn.datasets import make_classification\n",
    "from sklearn.model_selection import train_test_split\n",
    "from sklearn.metrics import accuracy_score\n",
    "from sklearn.metrics import f1_score"
   ]
  },
  {
   "cell_type": "code",
   "execution_count": 32,
   "metadata": {},
   "outputs": [
    {
     "name": "stdout",
     "output_type": "stream",
     "text": [
      "Accuracy:  1.0\n",
      "confusion matrix: [[407   0   0]\n",
      " [  0 391   0]\n",
      " [  0   0 419]]\n",
      "F1:Average score: 1.0\n",
      "F1:Macro score: 1.0\n",
      "F1:Micro score: 1.0\n"
     ]
    }
   ],
   "source": [
    "#fit decision tree classifier\n",
    "model_nn = MLPClassifier(random_state = 1, max_iter=300)\n",
    "# y_train = predf.astype('int')\n",
    "model_nn.fit(x_train, y_train)\n",
    "\n",
    "\n",
    "#predict 'y' for test data\n",
    "y_data_pred_test = model_nn.predict(x_test)\n",
    "\n",
    "#score\n",
    "print('Accuracy: ', accuracy_score(y_test, y_data_pred_test))\n",
    "print('confusion matrix:', confusion_matrix(y_test, y_data_pred_test))\n",
    "print('F1:Average score:', f1_score(y_test, y_data_pred_test,average ='weighted'))\n",
    "print('F1:Macro score:', f1_score(y_test, y_data_pred_test,average ='macro'))\n",
    "print('F1:Micro score:', f1_score(y_test, y_data_pred_test,average ='micro'))"
   ]
  },
  {
   "cell_type": "code",
   "execution_count": 33,
   "metadata": {},
   "outputs": [
    {
     "data": {
      "text/plain": [
       "array([1.29552111e+06, 1.68180128e+05, 6.31740710e+02, 1.75511756e+02,\n",
       "       7.44976981e+00, 5.68784980e+03, 5.77482802e+03, 1.02873997e+03,\n",
       "       9.50528198e+02, 1.54195047e+04, 6.80417436e+04, 8.34573270e+04,\n",
       "       5.42282966e+01, 8.22776847e-01, 6.49146662e+01, 8.50295133e+01,\n",
       "       1.53612107e+02, 2.24557054e+02])"
      ]
     },
     "execution_count": 33,
     "metadata": {},
     "output_type": "execute_result"
    }
   ],
   "source": [
    "# mean of dataset\n",
    "\n",
    "\n",
    "df1 = predf.mean(axis = 0)\n",
    "df1"
   ]
  },
  {
   "cell_type": "code",
   "execution_count": 34,
   "metadata": {},
   "outputs": [
    {
     "name": "stdout",
     "output_type": "stream",
     "text": [
      "Covariancematrix \n",
      "          xp     score  timePlayed  gamesPlayed    losses     kills    deaths  \\\n",
      "0   1.000164  0.739934    0.929634     0.745829  0.468275  0.866256  0.839885   \n",
      "1   0.739934  1.000164    0.844968     0.975535  0.518566  0.927506  0.940123   \n",
      "2   0.929634  0.844968    1.000164     0.837222  0.496091  0.865414  0.873119   \n",
      "3   0.745829  0.975535    0.837222     1.000164  0.569189  0.929540  0.926980   \n",
      "4   0.468275  0.518566    0.496091     0.569189  1.000164  0.509583  0.487485   \n",
      "5   0.866256  0.927506    0.865414     0.929540  0.509583  1.000164  0.979825   \n",
      "6   0.839885  0.940123    0.873119     0.926980  0.487485  0.979825  1.000164   \n",
      "7   0.802548  0.876867    0.802335     0.889216  0.522429  0.936674  0.935215   \n",
      "8   0.869256  0.889031    0.852623     0.895079  0.509364  0.976453  0.943508   \n",
      "9   0.771793  0.913233    0.796671     0.917807  0.517498  0.943161  0.929697   \n",
      "10  0.764563  0.926084    0.806376     0.918779  0.507287  0.933062  0.942692   \n",
      "11  0.770035  0.928682    0.808910     0.923554  0.511946  0.939987  0.945352   \n",
      "12  0.172833  0.161525    0.146876     0.180576  0.251562  0.200071  0.166666   \n",
      "13  0.309928  0.240838    0.268162     0.251708  0.293740  0.290609  0.239971   \n",
      "14  0.969944  0.758258    0.940840     0.756539  0.506536  0.856796  0.843571   \n",
      "15  0.188033  0.081511    0.201299     0.078271 -0.013974  0.103447  0.107415   \n",
      "16  0.010467  0.337312    0.043753     0.305601  0.261644  0.238318  0.251790   \n",
      "17  0.801305  0.934727    0.915525     0.906301  0.467245  0.894083  0.912098   \n",
      "\n",
      "     assists  headshots      hits    misses     shots  accuracy   kdRatio  \\\n",
      "0   0.802548   0.869256  0.771793  0.764563  0.770035  0.172833  0.309928   \n",
      "1   0.876867   0.889031  0.913233  0.926084  0.928682  0.161525  0.240838   \n",
      "2   0.802335   0.852623  0.796671  0.806376  0.808910  0.146876  0.268162   \n",
      "3   0.889216   0.895079  0.917807  0.918779  0.923554  0.180576  0.251708   \n",
      "4   0.522429   0.509364  0.517498  0.507287  0.511946  0.251562  0.293740   \n",
      "5   0.936674   0.976453  0.943161  0.933062  0.939987  0.200071  0.290609   \n",
      "6   0.935215   0.943508  0.929697  0.942692  0.945352  0.166666  0.239971   \n",
      "7   1.000164   0.911392  0.963642  0.946660  0.954947  0.205662  0.252355   \n",
      "8   0.911392   1.000164  0.925067  0.896839  0.906956  0.225395  0.311323   \n",
      "9   0.963642   0.925067  1.000164  0.964783  0.976602  0.242274  0.275557   \n",
      "10  0.946660   0.896839  0.964783  1.000164  0.998949  0.132154  0.243903   \n",
      "11  0.954947   0.906956  0.976602  0.998949  1.000164  0.153449  0.251121   \n",
      "12  0.205662   0.225395  0.242274  0.132154  0.153449  1.000164  0.392840   \n",
      "13  0.252355   0.311323  0.275557  0.243903  0.251121  0.392840  1.000164   \n",
      "14  0.804197   0.857787  0.780141  0.774306  0.779566  0.210274  0.356012   \n",
      "15  0.089167   0.106532  0.072460  0.082333  0.080918 -0.095860 -0.078618   \n",
      "16  0.247013   0.216162  0.294848  0.299340  0.300147  0.186587  0.140902   \n",
      "17  0.825328   0.866857  0.857066  0.865571  0.868657  0.167162  0.251129   \n",
      "\n",
      "       level  prestige  scorePerMinute      wins  \n",
      "0   0.969944  0.188033        0.010467  0.801305  \n",
      "1   0.758258  0.081511        0.337312  0.934727  \n",
      "2   0.940840  0.201299        0.043753  0.915525  \n",
      "3   0.756539  0.078271        0.305601  0.906301  \n",
      "4   0.506536 -0.013974        0.261644  0.467245  \n",
      "5   0.856796  0.103447        0.238318  0.894083  \n",
      "6   0.843571  0.107415        0.251790  0.912098  \n",
      "7   0.804197  0.089167        0.247013  0.825328  \n",
      "8   0.857787  0.106532        0.216162  0.866857  \n",
      "9   0.780141  0.072460        0.294848  0.857066  \n",
      "10  0.774306  0.082333        0.299340  0.865571  \n",
      "11  0.779566  0.080918        0.300147  0.868657  \n",
      "12  0.210274 -0.095860        0.186587  0.167162  \n",
      "13  0.356012 -0.078618        0.140902  0.251129  \n",
      "14  1.000164  0.184633        0.031545  0.822695  \n",
      "15  0.184633  1.000164       -0.246970  0.117041  \n",
      "16  0.031545 -0.246970        1.000164  0.210269  \n",
      "17  0.822695  0.117041        0.210269  1.000164  \n"
     ]
    }
   ],
   "source": [
    "# Covariance matrom \n",
    "mean_vec = np.mean(scaled, axis=0)\n",
    "cov_mat = (scaled - mean_vec).T.dot((scaled-mean_vec)) / (scaled.shape[0]-1)\n",
    "\n",
    "c_mat = pd.DataFrame(cov_mat,columns = df.columns)\n",
    "print(\"Covariancematrix \\n%s\" %c_mat)"
   ]
  },
  {
   "cell_type": "code",
   "execution_count": 35,
   "metadata": {},
   "outputs": [],
   "source": [
    "from sklearn.decomposition import PCA\n",
    "covar_matrix = PCA(n_components = 18) #we have 18 features"
   ]
  },
  {
   "cell_type": "code",
   "execution_count": 36,
   "metadata": {},
   "outputs": [],
   "source": [
    "from sklearn.decomposition import PCA\n",
    "pca_breast = PCA(n_components=3)\n",
    "x_pca = pca_breast.fit_transform(scaled)"
   ]
  },
  {
   "cell_type": "code",
   "execution_count": 37,
   "metadata": {},
   "outputs": [],
   "source": [
    "pca_Df = pd.DataFrame(data = x_pca\n",
    "             , columns = ['principal component 1', 'principal component 2','principal component3'])"
   ]
  },
  {
   "cell_type": "code",
   "execution_count": 38,
   "metadata": {},
   "outputs": [
    {
     "data": {
      "text/html": [
       "<div>\n",
       "<style scoped>\n",
       "    .dataframe tbody tr th:only-of-type {\n",
       "        vertical-align: middle;\n",
       "    }\n",
       "\n",
       "    .dataframe tbody tr th {\n",
       "        vertical-align: top;\n",
       "    }\n",
       "\n",
       "    .dataframe thead th {\n",
       "        text-align: right;\n",
       "    }\n",
       "</style>\n",
       "<table border=\"1\" class=\"dataframe\">\n",
       "  <thead>\n",
       "    <tr style=\"text-align: right;\">\n",
       "      <th></th>\n",
       "      <th>principal component 1</th>\n",
       "      <th>principal component 2</th>\n",
       "      <th>principal component3</th>\n",
       "    </tr>\n",
       "  </thead>\n",
       "  <tbody>\n",
       "    <tr>\n",
       "      <th>0</th>\n",
       "      <td>-2.034835</td>\n",
       "      <td>-1.771619</td>\n",
       "      <td>0.048459</td>\n",
       "    </tr>\n",
       "    <tr>\n",
       "      <th>1</th>\n",
       "      <td>3.784715</td>\n",
       "      <td>-0.917218</td>\n",
       "      <td>1.086952</td>\n",
       "    </tr>\n",
       "    <tr>\n",
       "      <th>2</th>\n",
       "      <td>-1.854281</td>\n",
       "      <td>0.483038</td>\n",
       "      <td>1.888970</td>\n",
       "    </tr>\n",
       "    <tr>\n",
       "      <th>3</th>\n",
       "      <td>-1.428800</td>\n",
       "      <td>1.956865</td>\n",
       "      <td>-0.106252</td>\n",
       "    </tr>\n",
       "    <tr>\n",
       "      <th>4</th>\n",
       "      <td>-2.356790</td>\n",
       "      <td>-1.083006</td>\n",
       "      <td>-0.621986</td>\n",
       "    </tr>\n",
       "  </tbody>\n",
       "</table>\n",
       "</div>"
      ],
      "text/plain": [
       "   principal component 1  principal component 2  principal component3\n",
       "0              -2.034835              -1.771619              0.048459\n",
       "1               3.784715              -0.917218              1.086952\n",
       "2              -1.854281               0.483038              1.888970\n",
       "3              -1.428800               1.956865             -0.106252\n",
       "4              -2.356790              -1.083006             -0.621986"
      ]
     },
     "execution_count": 38,
     "metadata": {},
     "output_type": "execute_result"
    }
   ],
   "source": [
    "pca_Df.head()"
   ]
  },
  {
   "cell_type": "code",
   "execution_count": 39,
   "metadata": {},
   "outputs": [
    {
     "name": "stdout",
     "output_type": "stream",
     "text": [
      "Explained variation per principal component: [0.67319295 0.08835866 0.06862996]\n"
     ]
    }
   ],
   "source": [
    "print('Explained variation per principal component: {}'.format(pca_breast.explained_variance_ratio_))"
   ]
  },
  {
   "cell_type": "code",
   "execution_count": 40,
   "metadata": {},
   "outputs": [
    {
     "data": {
      "text/plain": [
       "(6082, 3)"
      ]
     },
     "execution_count": 40,
     "metadata": {},
     "output_type": "execute_result"
    }
   ],
   "source": [
    "x_pca.shape"
   ]
  },
  {
   "cell_type": "code",
   "execution_count": 41,
   "metadata": {},
   "outputs": [
    {
     "data": {
      "image/png": "[encoded data removed]",
      "text/plain": [
       "<Figure size 720x576 with 1 Axes>"
      ]
     },
     "metadata": {
      "needs_background": "light"
     },
     "output_type": "display_data"
    }
   ],
   "source": [
    "import matplotlib.pyplot as plt\n",
    "%matplotlib inline\n",
    "\n",
    "plt.figure(figsize=[10,8])\n",
    "x = x_pca[:,0]\n",
    "y = x_pca[:,1]\n",
    "z = x_pca[:,2]\n",
    "n, bins, patches = plt.hist([x, y,z])"
   ]
  },
  {
   "cell_type": "code",
   "execution_count": 42,
   "metadata": {},
   "outputs": [
    {
     "data": {
      "image/png": "[encoded data removed]",
      "text/plain": [
       "<Figure size 1080x576 with 1 Axes>"
      ]
     },
     "metadata": {
      "needs_background": "light"
     },
     "output_type": "display_data"
    }
   ],
   "source": [
    "from mpl_toolkits.mplot3d import Axes3D\n",
    "\n",
    "\n",
    "fig = plt.figure(figsize=(15, 8))\n",
    "ax = fig.add_subplot(111, projection='3d')\n",
    "ax.scatter(x_pca[:,0], x_pca[:,1], x_pca[:,2], s=70)\n",
    "ax.legend(['Clusters'])\n",
    "ax.set_xlabel('First Principal Component')\n",
    "ax.set_ylabel('Second Principal Component')\n",
    "ax.set_zlabel('Third Principal Component')\n",
    "ax.view_init(30, 120)"
   ]
  },
  {
   "cell_type": "code",
   "execution_count": 43,
   "metadata": {},
   "outputs": [],
   "source": [
    "def fancy_dendrogram(*args, **kwargs):\n",
    "    max_d = kwargs.pop('max_d', None)\n",
    "    if max_d and 'color_threshold' not in kwargs:\n",
    "        kwargs['color_threshold'] = max_d\n",
    "    annotate_above = kwargs.pop('annotate_above', 0)\n",
    "    plt.figure(figsize=(15,10))\n",
    "    ddata = dendrogram(*args, **kwargs)\n",
    "\n",
    "    if not kwargs.get('no_plot', False):\n",
    "        plt.title('Hierarchical Clustering Dendrogram (truncated)')\n",
    "        plt.xlabel('sample index or (cluster size)')\n",
    "        plt.ylabel('distance')\n",
    "        for i, d, c in zip(ddata['icoord'], ddata['dcoord'], ddata['color_list']):\n",
    "            x = 0.5 * sum(i[1:3])\n",
    "            y = d[1]\n",
    "            if y > annotate_above:\n",
    "                plt.plot(x, y, 'o', c=c)\n",
    "                plt.annotate(\"%.3g\" % y, (x, y), xytext=(0, -5),\n",
    "                             textcoords='offset points',\n",
    "                             va='top', ha='center')\n",
    "        if max_d:\n",
    "            plt.axhline(y=max_d, c='k')\n",
    "    return ddata"
   ]
  },
  {
   "cell_type": "code",
   "execution_count": 47,
   "metadata": {},
   "outputs": [
    {
     "data": {
      "image/png": "[encoded data removed]",
      "text/plain": [
       "<Figure size 1080x720 with 1 Axes>"
      ]
     },
     "metadata": {
      "needs_background": "light"
     },
     "output_type": "display_data"
    }
   ],
   "source": [
    "from scipy.cluster.hierarchy import dendrogram, ward\n",
    "\n",
    "linked_array = ward(scaled)\n",
    "\n",
    "fancy_dendrogram(\n",
    "    linked_array,\n",
    "    truncate_mode='lastp',\n",
    "    p=30,\n",
    "    leaf_rotation=90.,\n",
    "    leaf_font_size=12.,\n",
    "    show_contracted=True,\n",
    "    annotate_above=10,\n",
    "    max_d=80\n",
    ")\n",
    "\n",
    "plt.show()\n"
   ]
  },
  {
   "cell_type": "code",
   "execution_count": 48,
   "metadata": {},
   "outputs": [
    {
     "name": "stdout",
     "output_type": "stream",
     "text": [
      "distances for the last 5 merges:\n",
      "[ 76.07084688  97.1266629  104.3613527  157.50193199 302.8225674 ]\n"
     ]
    }
   ],
   "source": [
    "print('distances for the last 5 merges:\\n{}'.format(linked_array[-5:,2]))"
   ]
  },
  {
   "cell_type": "code",
   "execution_count": 49,
   "metadata": {},
   "outputs": [
    {
     "name": "stdout",
     "output_type": "stream",
     "text": [
      "[0 2 0 ... 0 0 0]\n"
     ]
    }
   ],
   "source": [
    "from sklearn.cluster import AgglomerativeClustering\n",
    "\n",
    "cluster = AgglomerativeClustering(n_clusters=4, affinity='euclidean', linkage='ward')\n",
    "cluster.fit_predict(predf)\n",
    "labels = cluster.labels_\n",
    "print(labels)"
   ]
  },
  {
   "cell_type": "code",
   "execution_count": 50,
   "metadata": {},
   "outputs": [],
   "source": [
    "from scipy.cluster.hierarchy import dendrogram, linkage\n",
    "# generate the linkage matrix\n",
    "Z = linkage(predf, 'ward')"
   ]
  },
  {
   "cell_type": "markdown",
   "metadata": {},
   "source": [
    "you can and should definitely do is check the Cophenetic Correlation Coefficient of your clustering with help of the cophenet() function. This (very very briefly) compares (correlates) the actual pairwise distances of all your samples to those implied by the hierarchical clustering. The closer the value is to 1, the better the clustering preserves the original distances, which in our case is pretty close:"
   ]
  },
  {
   "cell_type": "code",
   "execution_count": 51,
   "metadata": {},
   "outputs": [
    {
     "data": {
      "text/plain": [
       "0.8643320157924232"
      ]
     },
     "execution_count": 51,
     "metadata": {},
     "output_type": "execute_result"
    }
   ],
   "source": [
    "from scipy.cluster.hierarchy import cophenet\n",
    "from scipy.spatial.distance import pdist\n",
    "\n",
    "c, coph_dists = cophenet(Z, pdist(predf))\n",
    "c"
   ]
  },
  {
   "cell_type": "code",
   "execution_count": 52,
   "metadata": {},
   "outputs": [
    {
     "data": {
      "image/png": "[encoded data removed]",
      "text/plain": [
       "<Figure size 432x288 with 1 Axes>"
      ]
     },
     "metadata": {
      "needs_background": "light"
     },
     "output_type": "display_data"
    }
   ],
   "source": [
    "# #Visualizing the clusters using scatter plots\n",
    "plt.scatter(predf[:,0],predf[:,1],  \n",
    "           c = AgglomerativeClustering(n_clusters = 5).fit_predict(predf), cmap =plt.cm.viridis) \n",
    "plt.scatter(predf[cluster == 0, 0], predf[cluster  == 0, 1], s = 100, c = 'yellow', label = 'Beignner')\n",
    "plt.scatter(predf[cluster  == 1, 0], predf[cluster  == 1, 1], s = 100, c = 'green', label = 'Intermediate')\n",
    "plt.scatter(predf[cluster  == 2, 0], predf[cluster  == 2, 1], s = 100, c = 'darkgreen', label = 'Advance')\n",
    "plt.scatter(predf[cluster  == 3, 0], predf[cluster  == 3, 1], s = 100, c = 'blue', label = 'Expert')\n",
    "plt.scatter(predf[cluster  == 4, 0], predf[cluster  == 4, 1], s = 100, c = 'black', label = 'Senior')\n",
    "plt.title('Clusters of skill')\n",
    "# plt.xlabel('players')\n",
    "# plt.ylabel('accuracy')\n",
    "plt.legend()\n",
    "plt.show()"
   ]
  }
 ],
 "metadata": {
  "kernelspec": {
   "display_name": "Python 3",
   "language": "python",
   "name": "python3"
  },
  "language_info": {
   "codemirror_mode": {
    "name": "ipython",
    "version": 3
   },
   "file_extension": ".py",
   "mimetype": "text/x-python",
   "name": "python",
   "nbconvert_exporter": "python",
   "pygments_lexer": "ipython3",
   "version": "3.8.5"
  }
 },
 "nbformat": 4,
 "nbformat_minor": 4
}
